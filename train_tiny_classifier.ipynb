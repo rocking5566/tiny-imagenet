{
 "cells": [
  {
   "cell_type": "code",
   "execution_count": null,
   "metadata": {},
   "outputs": [],
   "source": [
    "from tiny_reader import TinyTrainReader\n",
    "from tiny_reader import import_hdf5\n",
    "import matplotlib.pyplot as plt\n",
    "import cv2\n",
    "import os\n",
    "import numpy as np\n",
    "from keras.models import Sequential\n",
    "from keras.layers import Dense, Conv2D, MaxPooling2D, Activation, Flatten, BatchNormalization, ZeroPadding2D\n",
    "from keras import regularizers\n",
    "from keras.optimizers import Adam\n",
    "from keras.callbacks import ModelCheckpoint\n",
    "from keras.utils import plot_model\n",
    "from keras.utils import np_utils\n"
   ]
  },
  {
   "cell_type": "code",
   "execution_count": null,
   "metadata": {},
   "outputs": [],
   "source": [
    "x_train, y_train, label_codes = import_hdf5('/src/dataset/imagenet/tiny-imagenet-200/training_data.h5')\n",
    "print(x_train.shape)\n",
    "print(y_train.shape)"
   ]
  },
  {
   "cell_type": "code",
   "execution_count": null,
   "metadata": {
    "scrolled": false
   },
   "outputs": [],
   "source": [
    "# show data\n",
    "img = cv2.cvtColor(x_train[100], cv2.COLOR_RGB2BGR)\n",
    "plt.imshow(img)\n",
    "plt.show()"
   ]
  },
  {
   "cell_type": "code",
   "execution_count": null,
   "metadata": {},
   "outputs": [],
   "source": [
    "# Create model\n",
    "model = Sequential()\n",
    "\n",
    "#conv-spatial batch norm - relu #1 \n",
    "model.add(ZeroPadding2D(padding = (2, 2), input_shape=(64, 64, 3)))\n",
    "model.add(Conv2D(64, (5, 5)))\n",
    "model.add(BatchNormalization(epsilon=1e-06, axis=1, momentum=0.9))\n",
    "model.add(Activation('relu'))\n",
    "\n",
    "#conv-spatial batch norm - relu #2\n",
    "model.add(ZeroPadding2D(padding = (1,1)))\n",
    "model.add(Conv2D(64, (3, 3)))\n",
    "model.add(BatchNormalization(epsilon=1e-06, axis=1, momentum=0.9))\n",
    "model.add(Activation('relu'))\n",
    "model.add(MaxPooling2D())\n",
    "\n",
    "#conv-spatial batch norm - relu #3\n",
    "model.add(ZeroPadding2D(padding = (1,1)))\n",
    "model.add(Conv2D(128, (3, 3)))\n",
    "model.add(BatchNormalization(epsilon=1e-06, axis=1, momentum=0.9))\n",
    "model.add(Activation('relu'))\n",
    "\n",
    "#conv-spatial batch norm - relu #4\n",
    "model.add(ZeroPadding2D(padding = (1,1)))\n",
    "model.add(Conv2D(128, (3, 3)))\n",
    "model.add(BatchNormalization(epsilon=1e-06, axis=1, momentum=0.9))\n",
    "model.add(Activation('relu'))\n",
    "model.add(MaxPooling2D())\n",
    "\n",
    "#conv-spatial batch norm - relu #5\n",
    "model.add(ZeroPadding2D(padding = (1,1)))\n",
    "model.add(Conv2D(256, (3, 3)))\n",
    "model.add(BatchNormalization(epsilon=1e-06, axis=1, momentum=0.9))\n",
    "model.add(Activation('relu'))\n",
    "\n",
    "#conv-spatial batch norm - relu #6\n",
    "model.add(ZeroPadding2D(padding = (1,1)))\n",
    "model.add(Conv2D(256, (3, 3)))\n",
    "model.add(BatchNormalization(epsilon=1e-06, axis=1, momentum=0.9))\n",
    "model.add(Activation('relu'))\n",
    "model.add(MaxPooling2D())\n",
    "\n",
    "#conv-spatial batch norm - relu #7\n",
    "model.add(ZeroPadding2D(padding = (1,1)))\n",
    "model.add(Conv2D(512, (3, 3)))\n",
    "model.add(BatchNormalization(epsilon=1e-06, axis=1, momentum=0.9))\n",
    "model.add(Activation('relu'))\n",
    "\n",
    "#conv-spatial batch norm - relu #8\n",
    "model.add(ZeroPadding2D(padding = (1,1)))\n",
    "model.add(Conv2D(512, (3, 3)))\n",
    "model.add(BatchNormalization(epsilon=1e-06, axis=1, momentum=0.9))\n",
    "model.add(Activation('relu'))\n",
    "model.add(MaxPooling2D())\n",
    "\n",
    "#conv-spatial batch norm - relu #9\n",
    "model.add(ZeroPadding2D(padding = (1,1)))\n",
    "model.add(Conv2D(1024, (3, 3)))\n",
    "model.add(BatchNormalization(epsilon=1e-06, axis=1, momentum=0.9))\n",
    "model.add(Activation('relu'))\n",
    "model.add(MaxPooling2D())\n",
    "\n",
    "#Affine-spatial batch norm - relu #10\n",
    "model.add(Flatten())\n",
    "model.add(Dense(512))\n",
    "model.add(BatchNormalization(epsilon=1e-06, axis=1, momentum=0.9))\n",
    "model.add(Activation('relu'))\n",
    "\n",
    "#Affine-spatial batch norm - softmax #11\n",
    "model.add(Dense(label_codes.shape[0]))\n",
    "model.add(Activation('softmax'))\n",
    "\n",
    "# We add metrics to get more results you want to see\n",
    "model.compile(optimizer=Adam(),\n",
    "              loss='categorical_crossentropy',\n",
    "              metrics=['accuracy'])\n",
    "\n",
    "plot_model(model)"
   ]
  },
  {
   "cell_type": "code",
   "execution_count": null,
   "metadata": {},
   "outputs": [],
   "source": [
    "x_train = x_train / 255\n",
    "y_train = np_utils.to_categorical(y_train, num_classes=label_codes.shape[0])"
   ]
  },
  {
   "cell_type": "code",
   "execution_count": null,
   "metadata": {},
   "outputs": [],
   "source": [
    "print('Training ------------')\n",
    "model_check_point_callback = ModelCheckpoint(\"weights.{epoch:02d}-{acc:.2f}-{loss:.4f}.hdf5\",\n",
    "                                 monitor=\"loss\",\n",
    "                                 verbose=1,\n",
    "                                 save_best_only=True,\n",
    "                                 mode=\"auto\")\n",
    "model.fit(x_train, y_train, epochs=100, batch_size=256, callbacks = [model_check_point_callback])"
   ]
  }
 ],
 "metadata": {
  "kernelspec": {
   "display_name": "Python 3",
   "language": "python",
   "name": "python3"
  },
  "language_info": {
   "codemirror_mode": {
    "name": "ipython",
    "version": 3
   },
   "file_extension": ".py",
   "mimetype": "text/x-python",
   "name": "python",
   "nbconvert_exporter": "python",
   "pygments_lexer": "ipython3",
   "version": "3.5.4"
  }
 },
 "nbformat": 4,
 "nbformat_minor": 2
}
