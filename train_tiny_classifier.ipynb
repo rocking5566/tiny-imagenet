{
 "cells": [
  {
   "cell_type": "code",
   "execution_count": null,
   "metadata": {},
   "outputs": [],
   "source": [
    "from tiny_reader import TinyTrainReader\n",
    "import matplotlib.pyplot as plt\n",
    "import cv2\n",
    "import os\n",
    "import numpy as np\n",
    "from keras.models import Sequential\n",
    "from keras.layers import Dense, Conv2D, MaxPooling2D, Activation, Flatten, BatchNormalization, ZeroPadding2D\n",
    "from keras import regularizers\n",
    "from keras.optimizers import Adam\n",
    "from keras.callbacks import ModelCheckpoint\n",
    "from keras.utils import plot_model\n",
    "from keras.utils import np_utils\n"
   ]
  },
  {
   "cell_type": "code",
   "execution_count": null,
   "metadata": {},
   "outputs": [],
   "source": [
    "tiny_image_net_200_dir = '/src/dataset/imagenet/tiny-imagenet-200'\n",
    "train_dir = os.path.join(tiny_image_net_200_dir, 'train')\n",
    "\n",
    "reader = TinyTrainReader(train_dir)"
   ]
  },
  {
   "cell_type": "code",
   "execution_count": null,
   "metadata": {
    "scrolled": false
   },
   "outputs": [],
   "source": [
    "# show data\n",
    "for idx, data in enumerate(reader.generate_data(1)):\n",
    "    img = cv2.cvtColor((data[0][0] * 255).astype('uint8'), cv2.COLOR_RGB2BGR)\n",
    "    plt.imshow(img)\n",
    "    plt.show()\n",
    "    break\n"
   ]
  },
  {
   "cell_type": "code",
   "execution_count": null,
   "metadata": {},
   "outputs": [],
   "source": [
    "# Create model\n",
    "model = Sequential()\n",
    "\n",
    "#conv-spatial batch norm - relu #1 \n",
    "model.add(ZeroPadding2D(padding = (2, 2), input_shape=(64, 64, 3)))\n",
    "model.add(Conv2D(64, (5, 5)))\n",
    "model.add(BatchNormalization(epsilon=1e-06, axis=1, momentum=0.9))\n",
    "model.add(Activation('relu'))\n",
    "\n",
    "#conv-spatial batch norm - relu #2\n",
    "model.add(ZeroPadding2D(padding = (1,1)))\n",
    "model.add(Conv2D(64, (3, 3)))\n",
    "model.add(BatchNormalization(epsilon=1e-06, axis=1, momentum=0.9))\n",
    "model.add(Activation('relu'))\n",
    "model.add(MaxPooling2D())\n",
    "\n",
    "#conv-spatial batch norm - relu #3\n",
    "model.add(ZeroPadding2D(padding = (1,1)))\n",
    "model.add(Conv2D(128, (3, 3)))\n",
    "model.add(BatchNormalization(epsilon=1e-06, axis=1, momentum=0.9))\n",
    "model.add(Activation('relu'))\n",
    "\n",
    "#conv-spatial batch norm - relu #4\n",
    "model.add(ZeroPadding2D(padding = (1,1)))\n",
    "model.add(Conv2D(128, (3, 3)))\n",
    "model.add(BatchNormalization(epsilon=1e-06, axis=1, momentum=0.9))\n",
    "model.add(Activation('relu'))\n",
    "model.add(MaxPooling2D())\n",
    "\n",
    "#conv-spatial batch norm - relu #5\n",
    "model.add(ZeroPadding2D(padding = (1,1)))\n",
    "model.add(Conv2D(256, (3, 3)))\n",
    "model.add(BatchNormalization(epsilon=1e-06, axis=1, momentum=0.9))\n",
    "model.add(Activation('relu'))\n",
    "\n",
    "#conv-spatial batch norm - relu #6\n",
    "model.add(ZeroPadding2D(padding = (1,1)))\n",
    "model.add(Conv2D(256, (3, 3)))\n",
    "model.add(BatchNormalization(epsilon=1e-06, axis=1, momentum=0.9))\n",
    "model.add(Activation('relu'))\n",
    "model.add(MaxPooling2D())\n",
    "\n",
    "#conv-spatial batch norm - relu #7\n",
    "model.add(ZeroPadding2D(padding = (1,1)))\n",
    "model.add(Conv2D(512, (3, 3)))\n",
    "model.add(BatchNormalization(epsilon=1e-06, axis=1, momentum=0.9))\n",
    "model.add(Activation('relu'))\n",
    "\n",
    "#conv-spatial batch norm - relu #8\n",
    "model.add(ZeroPadding2D(padding = (1,1)))\n",
    "model.add(Conv2D(512, (3, 3)))\n",
    "model.add(BatchNormalization(epsilon=1e-06, axis=1, momentum=0.9))\n",
    "model.add(Activation('relu'))\n",
    "model.add(MaxPooling2D())\n",
    "\n",
    "#conv-spatial batch norm - relu #9\n",
    "model.add(ZeroPadding2D(padding = (1,1)))\n",
    "model.add(Conv2D(1024, (3, 3)))\n",
    "model.add(BatchNormalization(epsilon=1e-06, axis=1, momentum=0.9))\n",
    "model.add(Activation('relu'))\n",
    "model.add(MaxPooling2D())\n",
    "\n",
    "#Affine-spatial batch norm - relu #10\n",
    "model.add(Flatten())\n",
    "model.add(Dense(512))\n",
    "model.add(BatchNormalization(epsilon=1e-06, axis=1, momentum=0.9))\n",
    "model.add(Activation('relu'))\n",
    "\n",
    "#Affine-spatial batch norm - softmax #11\n",
    "model.add(Dense(reader.num_label))\n",
    "model.add(Activation('softmax'))\n",
    "\n",
    "# We add metrics to get more results you want to see\n",
    "model.compile(optimizer=Adam(),\n",
    "              loss='categorical_crossentropy',\n",
    "              metrics=['accuracy'])\n",
    "\n",
    "plot_model(model)"
   ]
  },
  {
   "cell_type": "code",
   "execution_count": null,
   "metadata": {},
   "outputs": [],
   "source": [
    "'''data_generator = reader.generate_data(250)\n",
    "\n",
    "model_check_point_callback = ModelCheckpoint(\"tiny_weights.{epoch:02d}-{acc:.2f}-{loss:.4f}.hdf5\",\n",
    "                                 monitor=\"loss\",\n",
    "                                 verbose=1,\n",
    "                                 save_best_only=True,\n",
    "                                 mode=\"auto\")\n",
    "\n",
    "print('Training ------------')\n",
    "model.fit_generator(data_generator, steps_per_epoch = 400, epochs=3, callbacks = [model_check_point_callback])'\n",
    "'''"
   ]
  },
  {
   "cell_type": "code",
   "execution_count": null,
   "metadata": {},
   "outputs": [],
   "source": [
    "x_train, y_train = reader.load_all_img()"
   ]
  },
  {
   "cell_type": "code",
   "execution_count": null,
   "metadata": {},
   "outputs": [],
   "source": [
    "x_train = x_train / 255\n",
    "y_train = np_utils.to_categorical(y_train, num_classes=reader.num_label)"
   ]
  },
  {
   "cell_type": "code",
   "execution_count": null,
   "metadata": {},
   "outputs": [],
   "source": [
    "print('Training ------------')\n",
    "model_check_point_callback = ModelCheckpoint(\"weights.{epoch:02d}-{acc:.2f}-{loss:.4f}.hdf5\",\n",
    "                                 monitor=\"loss\",\n",
    "                                 verbose=1,\n",
    "                                 save_best_only=True,\n",
    "                                 mode=\"auto\")\n",
    "model.fit(x_train, y_train, epochs=100, batch_size=256, callbacks = [model_check_point_callback])"
   ]
  },
  {
   "cell_type": "code",
   "execution_count": null,
   "metadata": {},
   "outputs": [],
   "source": []
  }
 ],
 "metadata": {
  "kernelspec": {
   "display_name": "Python 3",
   "language": "python",
   "name": "python3"
  },
  "language_info": {
   "codemirror_mode": {
    "name": "ipython",
    "version": 3
   },
   "file_extension": ".py",
   "mimetype": "text/x-python",
   "name": "python",
   "nbconvert_exporter": "python",
   "pygments_lexer": "ipython3",
   "version": "3.5.4"
  }
 },
 "nbformat": 4,
 "nbformat_minor": 2
}
